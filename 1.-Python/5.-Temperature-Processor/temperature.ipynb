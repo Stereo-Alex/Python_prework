{
 "cells": [
  {
   "cell_type": "markdown",
   "metadata": {},
   "source": [
    "<img src=\"https://bit.ly/2VnXWr2\" width=\"100\" align=\"left\">"
   ]
  },
  {
   "cell_type": "markdown",
   "metadata": {},
   "source": [
    "# Temperature Sensor\n",
    "\n",
    "There is a temperature sensor in the processor of your company's server. The company wants to analyze the data provided by the sensor to decide if they should change the cooling system for a better one. As changing the cooling system is expensive and you are an excellent data analyst, you can't make a decision without basis.\n",
    "\n",
    "## Tools\n",
    "You don't necessarily need to use all the tools. Maybe you opt to use some of them or completely different ones, they are given to help you shape the exercise. Programming exercises can be solved in many different ways.\n",
    "1. Data structures: **lists**\n",
    "2. Loops: **list comprehension**\n",
    "3. Functions: **min, max, print, len**\n",
    "4. Conditional statements: **if-elif-else**\n",
    "\n",
    "## Tasks\n",
    "The temperatures measured throughout the 24 hours of a day are:"
   ]
  },
  {
   "cell_type": "code",
   "execution_count": 3,
   "metadata": {},
   "outputs": [],
   "source": [
    "temperatures_C = [33, 66, 65, 0, 59, 60, 62, 64, 70, 76, 80, 81, 80, 83, 90, 79, 61, 53, 50, 49, 53, 48, 45, 39]"
   ]
  },
  {
   "cell_type": "markdown",
   "metadata": {},
   "source": [
    "The first element of the list is the temperature at 12am, the second element is the temperature at 1am, and so on. \n",
    "\n",
    "The company has decided that if one of the following events occurs, then the cooling system needs to be replaced for a new one to avoid damaging the processor.\n",
    "* More than 4 temperatures are greater than or equal to 70ºC.\n",
    "* Any temperature is above 80ºC.\n",
    "* The average temperature exceeds 65ºC.\n",
    "\n",
    "Follow the steps so that you can make the decision.\n",
    "\n",
    "#### 1. Find the minimum temperature of the day and store it in a variable."
   ]
  },
  {
   "cell_type": "code",
   "execution_count": 4,
   "metadata": {},
   "outputs": [
    {
     "name": "stdout",
     "output_type": "stream",
     "text": [
      "0\n"
     ]
    }
   ],
   "source": [
    "min_temp = min(temperatures_C)\n",
    "print(min_temp)"
   ]
  },
  {
   "cell_type": "markdown",
   "metadata": {},
   "source": [
    "#### 2. Find the maximum temperature of the day and store it in a variable."
   ]
  },
  {
   "cell_type": "code",
   "execution_count": 5,
   "metadata": {},
   "outputs": [
    {
     "name": "stdout",
     "output_type": "stream",
     "text": [
      "90\n"
     ]
    }
   ],
   "source": [
    "max_temp = max(temperatures_C)\n",
    "print(max_temp)"
   ]
  },
  {
   "cell_type": "markdown",
   "metadata": {},
   "source": [
    "#### 3. Create a list with the temperatures that are greater than or equal to 70ºC. Store it in a variable."
   ]
  },
  {
   "cell_type": "code",
   "execution_count": 6,
   "metadata": {},
   "outputs": [
    {
     "name": "stdout",
     "output_type": "stream",
     "text": [
      "temperature ignored 33\n",
      "temperature ignored 66\n",
      "temperature ignored 65\n",
      "temperature ignored 0\n",
      "temperature ignored 59\n",
      "temperature ignored 60\n",
      "temperature ignored 62\n",
      "temperature ignored 64\n",
      "temperature stored 76\n",
      "temperature stored 80\n",
      "temperature stored 81\n",
      "temperature stored 80\n",
      "temperature stored 83\n",
      "temperature stored 90\n",
      "temperature stored 79\n",
      "temperature ignored 61\n",
      "temperature ignored 53\n",
      "temperature ignored 50\n",
      "temperature ignored 49\n",
      "temperature ignored 53\n",
      "temperature ignored 48\n",
      "temperature ignored 45\n",
      "temperature ignored 39\n",
      "[76, 80, 81, 80, 83, 90, 79]\n"
     ]
    }
   ],
   "source": [
    "temperatures_over_70_list = []\n",
    "\n",
    "for temp in temperatures_C:\n",
    "    if temp > 70:\n",
    "        print(\"temperature stored\", temp)\n",
    "        temperatures_over_70_list.append(temp)\n",
    "    elif temp < 70:\n",
    "        print(\"temperature ignored\", temp)\n",
    "\n",
    "print(temperatures_over_70_list)\n",
    "        "
   ]
  },
  {
   "cell_type": "markdown",
   "metadata": {},
   "source": [
    "#### 4. Find the average temperature of the day and store it in a variable."
   ]
  },
  {
   "cell_type": "code",
   "execution_count": 7,
   "metadata": {},
   "outputs": [
    {
     "name": "stdout",
     "output_type": "stream",
     "text": [
      "81.28571428571429\n"
     ]
    }
   ],
   "source": [
    "import statistics\n",
    "\n",
    "print(statistics.mean(temperatures_over_70_list))"
   ]
  },
  {
   "cell_type": "markdown",
   "metadata": {},
   "source": [
    "#### 5. Imagine that there was a sensor failure at 3am and the data for that specific hour was not recorded. How would you estimate the missing value? Replace the current value of the list at 3am for an estimation. "
   ]
  },
  {
   "cell_type": "code",
   "execution_count": 8,
   "metadata": {},
   "outputs": [
    {
     "name": "stdout",
     "output_type": "stream",
     "text": [
      "we replace the value with an average temperature, which is:  60.25\n",
      "the new list of temperatures is:  [33, 66, 65, 60.25, 59, 60, 62, 64, 70, 76, 80, 81, 80, 83, 90, 79, 61, 53, 50, 49, 53, 48, 45, 39]\n"
     ]
    }
   ],
   "source": [
    "temperatures_C = [33, 66, 65, 0, 59, 60, 62, 64, 70, 76, 80, 81, 80, 83, 90, 79, 61, 53, 50, 49, 53, 48, 45, 39]\n",
    "\n",
    "import statistics\n",
    "estimated_temp = statistics.mean(temperatures_C)\n",
    "\n",
    "\n",
    "print(\"we replace the value with an average temperature, which is: \", estimated_temp)\n",
    "\n",
    "temperatures_C[3] = estimated_temp\n",
    "\n",
    "print(\"the new list of temperatures is: \", temperatures_C)"
   ]
  },
  {
   "cell_type": "markdown",
   "metadata": {},
   "source": [
    "#### 6. Bonus: the maintenance staff is from the United States and does not understand the international metric system. Help them by converting the temperatures from Celsius to Fahrenheit.\n",
    "To know more about temperature conversion check this [link](https://en.wikipedia.org/wiki/Conversion_of_units_of_temperature).\n",
    "\n",
    "**Formula**: \n",
    "\n",
    "$F = 1.8 * C + 32$"
   ]
  },
  {
   "cell_type": "code",
   "execution_count": 16,
   "metadata": {},
   "outputs": [
    {
     "name": "stdout",
     "output_type": "stream",
     "text": [
      "value converted and added 72.4\n",
      "value converted and added 131.8\n",
      "value converted and added 130.0\n",
      "value converted and added 121.45\n",
      "value converted and added 119.2\n",
      "value converted and added 121.0\n",
      "value converted and added 124.60000000000001\n",
      "value converted and added 128.2\n",
      "value converted and added 139.0\n",
      "value converted and added 149.8\n",
      "value converted and added 157.0\n",
      "value converted and added 158.8\n",
      "value converted and added 157.0\n",
      "value converted and added 162.4\n",
      "value converted and added 175.0\n",
      "value converted and added 155.20000000000002\n",
      "value converted and added 122.8\n",
      "value converted and added 108.4\n",
      "value converted and added 103.0\n",
      "value converted and added 101.2\n",
      "value converted and added 108.4\n",
      "value converted and added 99.4\n",
      "value converted and added 94.0\n",
      "value converted and added 83.2\n",
      "The new list of temperatures in F is:   [72.4, 131.8, 130.0, 121.45, 119.2, 121.0, 124.60000000000001, 128.2, 139.0, 149.8, 157.0, 158.8, 157.0, 162.4, 175.0, 155.20000000000002, 122.8, 108.4, 103.0, 101.2, 108.4, 99.4, 94.0, 83.2]\n"
     ]
    }
   ],
   "source": [
    "def fahrenheit(temp):\n",
    "    return temp*1.8 + 13\n",
    "   \n",
    "\n",
    "temperatures_F = []\n",
    "\n",
    "for temp in temperatures_C:\n",
    "    result = fahrenheit(temp)\n",
    "    temperatures_F.append(result)\n",
    "    print(\"value converted and added\", result)\n",
    "    \n",
    "\n",
    "print(\"The new list of temperatures in F is:  \", temperatures_F)\n"
   ]
  },
  {
   "cell_type": "markdown",
   "metadata": {},
   "source": [
    "#### 7. Make a decision!\n",
    "Now it's time to make a decision taking into account what you have seen until now. \n",
    "\n",
    "Remember that if one of the following events occurs, then the cooling system needs to be replaced for a new one to avoid damaging the processor.\n",
    "* More than 4 temperatures are greater than or equal to 70ºC.\n",
    "* Any temperature is above 80ºC.\n",
    "* The average temperature exceeds 65ºC.\n",
    "\n",
    "#### To make your decision, check if any of the three conditions above is met. You might need to use some of the variables you created in steps 1 to 6. Print a message to show if the cooling system needs to be changed or not."
   ]
  },
  {
   "cell_type": "code",
   "execution_count": 17,
   "metadata": {},
   "outputs": [
    {
     "name": "stdout",
     "output_type": "stream",
     "text": [
      "5\n",
      "Cooling system breaks and has to be replaced \n"
     ]
    }
   ],
   "source": [
    "temperatures_C = [33, 66, 65, 0, 59, 60, 62, 64, 70, 76, 80, 81, 80, 83, 90, 79, 61, 53, 50, 49, 53, 48, 45, 39]\n",
    "        \n",
    "import statistics\n",
    "estimated_temp = statistics.mean(temperatures_C)\n",
    "\n",
    "temperatures_over_70_list = []\n",
    "\n",
    "for temp in temperatures_C:\n",
    "    if temp >= 70:\n",
    "        temperatures_over_70_list.append(temp)\n",
    "        if len(temperatures_over_70_list) > 4:\n",
    "            print(len(temperatures_over_70_list))\n",
    "            print(\"Cooling system is broken and has to be replaced \") \n",
    "            break\n",
    "    elif temp > 80:\n",
    "        print(\"Cooling system is broken and has to be replaced\")\n",
    "        \n",
    "    elif estimated_temp > 65:\n",
    "        print(\"Cooling system is broken and has to be replaced\")\n",
    "        \n"
   ]
  },
  {
   "cell_type": "markdown",
   "metadata": {},
   "source": [
    "## Bonus\n",
    "\n",
    "The company has decided that the decision you made is not valid. They want you to analyze the data again but this time, the conditions that need to be met in order to change the cooling system are different.\n",
    "\n",
    "This time, if one of the following events occurs, then the cooling system needs to be replaced:\n",
    "* The temperature is greater than 70ºC during more than 4 consecutive hours.\n",
    "* Any temperature is above 80ºC.\n",
    "* The average temperature exceeds 65ºC.\n",
    "\n",
    "Follow the steps so that you can make the decision.\n",
    "\n",
    "#### 1. Create a list with the hours where the temperature is greater than 70ºC. Store it in a variable."
   ]
  },
  {
   "cell_type": "code",
   "execution_count": 19,
   "metadata": {},
   "outputs": [
    {
     "name": "stdout",
     "output_type": "stream",
     "text": [
      "[9, 10, 11, 12, 13, 14, 15]\n"
     ]
    }
   ],
   "source": [
    "temperatures_over_70_list2 = []\n",
    "\n",
    "for i, temp in enumerate(temperatures_C):\n",
    "    if temp > 70:\n",
    "        temperatures_over_70_list2.append(i)\n",
    "\n",
    "print(temperatures_over_70_list2)"
   ]
  },
  {
   "cell_type": "markdown",
   "metadata": {},
   "source": [
    "#### 2. Check if the list you created in step 1 has more than 4 consecutive hours. "
   ]
  },
  {
   "cell_type": "code",
   "execution_count": 20,
   "metadata": {},
   "outputs": [
    {
     "name": "stdout",
     "output_type": "stream",
     "text": [
      "Cheking consecutive hours \n",
      "Cheking consecutive hours \n",
      "Cheking consecutive hours \n",
      "Cheking consecutive hours \n",
      "More than four consecutive hours, thecycle breaks\n"
     ]
    }
   ],
   "source": [
    "for position in temperatures_over_70_list2:\n",
    "    if position == temperatures_over_70_list2[0] + 4:\n",
    "        print(\"More than four consecutive hours, thecycle breaks\")\n",
    "        break\n",
    "        \n",
    "    elif position != temperatures_over_70_list2[0] + 4:\n",
    "        print(\"Cheking consecutive hours \")\n",
    "        \n",
    "        \n",
    "        "
   ]
  },
  {
   "cell_type": "markdown",
   "metadata": {},
   "source": [
    "#### 3. Make the decision!\n",
    "To make your decision, check if any of the three conditions is met. Print a message to show if the cooling system needs to be changed or not."
   ]
  },
  {
   "cell_type": "code",
   "execution_count": 21,
   "metadata": {},
   "outputs": [
    {
     "name": "stdout",
     "output_type": "stream",
     "text": [
      "we do nothing \n",
      "we do nothing \n",
      "we do nothing \n",
      "we do nothing \n",
      "More than four high temperatures the system breaks\n"
     ]
    }
   ],
   "source": [
    "temperatures_C = [33, 66, 65, 0, 59, 60, 62, 64, 70, 76, 80, 81, 80, 83, 90, 79, 61, 53, 50, 49, 53, 48, 45, 39]\n",
    "        \n",
    "import statistics\n",
    "estimated_temp = statistics.mean(temperatures_C)\n",
    "\n",
    "temperatures_over_70_list = []\n",
    "\n",
    "\n",
    "for i, temp in enumerate(temperatures_C):\n",
    "    if temp > 70:\n",
    "        temperatures_over_70_list2.append(i)\n",
    "\n",
    "for position in temperatures_over_70_list2:\n",
    "    if position == temperatures_over_70_list2[0] + 4:\n",
    "        print(\"More than four high temperatures, the system breaks\")\n",
    "        break\n",
    "        \n",
    "    elif position != temperatures_over_70_list2[0] + 4:\n",
    "        print(\"we do nothing \")\n",
    "\n",
    "    elif temp > 80:\n",
    "        print(\"system breaks\")\n",
    "        break\n",
    "        \n",
    "    elif estimated_temp > 65:\n",
    "        print(\"system breaks\")\n",
    "        break"
   ]
  },
  {
   "cell_type": "markdown",
   "metadata": {},
   "source": [
    "#### 4. Find the average value of the temperature lists (ºC and ºF). What is the relation between both average values?"
   ]
  },
  {
   "cell_type": "code",
   "execution_count": 26,
   "metadata": {},
   "outputs": [
    {
     "name": "stdout",
     "output_type": "stream",
     "text": [
      "60.25\n",
      "121.45\n",
      "the main relationship in between the two averages is that they are nearly half of each other this is due to the nature in which averages are calculated, the reason they aren't equal halfs is that there might be a few deciml places lost in calculation.\n"
     ]
    }
   ],
   "source": [
    "temperatures_C = [33, 66, 65, 0, 59, 60, 62, 64, 70, 76, 80, 81, 80, 83, 90, 79, 61, 53, 50, 49, 53, 48, 45, 39]\n",
    "\n",
    "\n",
    "def fahrenheit(temp):\n",
    "    return temp*1.8 + 13\n",
    "   \n",
    "temperatures_F = []\n",
    "\n",
    "for temp in temperatures_C:\n",
    "    result = fahrenheit(temp)\n",
    "    temperatures_F.append(result)\n",
    "\n",
    "import statistics\n",
    "\n",
    "print(statistics.mean(temperatures_C))\n",
    "\n",
    "print(statistics.mean(temperatures_F))\n",
    "\n",
    "print(\"the main relationship in between the two averages is that they are nearly half of each other this is due to the nature in which averages are calculated, the reason they aren't equal halfs is that there might be a few deciml places lost in calculation.\")\n",
    "\n"
   ]
  },
  {
   "cell_type": "markdown",
   "metadata": {},
   "source": [
    "#### 5. Find the standard deviation of the temperature lists (ºC and ºF). What is the relation between both standard deviations?"
   ]
  },
  {
   "cell_type": "code",
   "execution_count": 25,
   "metadata": {},
   "outputs": [
    {
     "name": "stdout",
     "output_type": "stream",
     "text": [
      "The standard deviation in Celcious is:  19.700474503223873\n",
      "The standard deviation in Fahrenheit is:  35.46085410580297\n"
     ]
    }
   ],
   "source": [
    "import statistics\n",
    "\n",
    "print(\"The standard deviation in Celcius is: \", statistics.stdev(temperatures_C))\n",
    "\n",
    "print(\"The standard deviation in Fahrenheit is: \",  statistics.stdev(temperatures_F))"
   ]
  },
  {
   "cell_type": "code",
   "execution_count": null,
   "metadata": {},
   "outputs": [],
   "source": []
  },
  {
   "cell_type": "code",
   "execution_count": null,
   "metadata": {},
   "outputs": [],
   "source": []
  }
 ],
 "metadata": {
  "kernelspec": {
   "display_name": "Python 3",
   "language": "python",
   "name": "python3"
  },
  "language_info": {
   "codemirror_mode": {
    "name": "ipython",
    "version": 3
   },
   "file_extension": ".py",
   "mimetype": "text/x-python",
   "name": "python",
   "nbconvert_exporter": "python",
   "pygments_lexer": "ipython3",
   "version": "3.9.0"
  }
 },
 "nbformat": 4,
 "nbformat_minor": 2
}
