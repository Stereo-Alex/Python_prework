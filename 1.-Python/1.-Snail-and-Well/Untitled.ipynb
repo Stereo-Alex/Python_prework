{
 "cells": [
  {
   "cell_type": "code",
   "execution_count": 19,
   "metadata": {},
   "outputs": [
    {
     "ename": "SyntaxError",
     "evalue": "invalid syntax (<ipython-input-19-514a58d950b9>, line 7)",
     "output_type": "error",
     "traceback": [
      "\u001b[0;36m  File \u001b[0;32m\"<ipython-input-19-514a58d950b9>\"\u001b[0;36m, line \u001b[0;32m7\u001b[0m\n\u001b[0;31m    close_friend.append(friend)\u001b[0m\n\u001b[0m    ^\u001b[0m\n\u001b[0;31mSyntaxError\u001b[0m\u001b[0;31m:\u001b[0m invalid syntax\n"
     ]
    }
   ],
   "source": [
    "friend [\"Ryan\", \"Kieran\", \"Mark\"]\n",
    "\n",
    "def friend(x):\n",
    "    close_friend = []\n",
    "    for name in close_friend:\n",
    "        if len(int(friend)>=int(4)\n",
    "        close_friend.append(friend)\n",
    "    return close_friend\n",
    "               \n",
    "               \n",
    "               \n",
    "               \n",
    "               \n",
    "def friend(x):\n",
    "    names = []\n",
    "    for name in x:\n",
    "        if len(name) == 4:\n",
    "            names.append(name)\n",
    "    return names"
   ]
  },
  {
   "cell_type": "code",
   "execution_count": 30,
   "metadata": {},
   "outputs": [
    {
     "ename": "SyntaxError",
     "evalue": "invalid syntax (<ipython-input-30-a6f68d961e32>, line 8)",
     "output_type": "error",
     "traceback": [
      "\u001b[0;36m  File \u001b[0;32m\"<ipython-input-30-a6f68d961e32>\"\u001b[0;36m, line \u001b[0;32m8\u001b[0m\n\u001b[0;31m    if is_triangle(set1) = True:\u001b[0m\n\u001b[0m                         ^\u001b[0m\n\u001b[0;31mSyntaxError\u001b[0m\u001b[0;31m:\u001b[0m invalid syntax\n"
     ]
    }
   ],
   "source": [
    "def is_triangle(a, b, c):\n",
    "    return (a<b+c) and (b<a+c) and (c<a+b)\n",
    "\n",
    "set1 = (1, 2, 3)\n",
    "set2 = (4, 2, 2)\n",
    "\n",
    "for (a, b, c) in set1:\n",
    "    if is_triangle(set1) == True:\n",
    "        print(\"Triangle exhists\")\n",
    "    elif is_triangle(set1) =! False:\n",
    "        print(\"Triangle doenst exhist\")\n",
    "        \n",
    "\n",
    "print(set1, set2)"
   ]
  },
  {
   "cell_type": "code",
   "execution_count": 31,
   "metadata": {},
   "outputs": [
    {
     "data": {
      "text/plain": [
       "False"
      ]
     },
     "execution_count": 31,
     "metadata": {},
     "output_type": "execute_result"
    }
   ],
   "source": [
    "def is_triangle(a, b, c):\n",
    "    return (a<b+c) and (b<a+c) and (c<a+b)\n",
    "\n",
    "set1 = (1, 2, 3)\n",
    "set2 = (4, 2, 2)\n",
    "\n",
    "is_triangle(*set1)"
   ]
  },
  {
   "cell_type": "code",
   "execution_count": 37,
   "metadata": {},
   "outputs": [
    {
     "ename": "SyntaxError",
     "evalue": "invalid syntax (<ipython-input-37-7b0c09e26ed0>, line 6)",
     "output_type": "error",
     "traceback": [
      "\u001b[0;36m  File \u001b[0;32m\"<ipython-input-37-7b0c09e26ed0>\"\u001b[0;36m, line \u001b[0;32m6\u001b[0m\n\u001b[0;31m    print(row_sum_odd_numbers(n*))\u001b[0m\n\u001b[0m                                ^\u001b[0m\n\u001b[0;31mSyntaxError\u001b[0m\u001b[0;31m:\u001b[0m invalid syntax\n"
     ]
    }
   ],
   "source": [
    "def row_sum_odd_numbers(n):\n",
    "    return n**3 \n",
    "\n",
    "n = (1, 3)\n",
    "\n",
    "print(row_sum_odd_numbers(n*))"
   ]
  },
  {
   "cell_type": "code",
   "execution_count": null,
   "metadata": {},
   "outputs": [],
   "source": []
  },
  {
   "cell_type": "code",
   "execution_count": null,
   "metadata": {},
   "outputs": [],
   "source": []
  }
 ],
 "metadata": {
  "kernelspec": {
   "display_name": "Python 3",
   "language": "python",
   "name": "python3"
  },
  "language_info": {
   "codemirror_mode": {
    "name": "ipython",
    "version": 3
   },
   "file_extension": ".py",
   "mimetype": "text/x-python",
   "name": "python",
   "nbconvert_exporter": "python",
   "pygments_lexer": "ipython3",
   "version": "3.9.0"
  }
 },
 "nbformat": 4,
 "nbformat_minor": 4
}
