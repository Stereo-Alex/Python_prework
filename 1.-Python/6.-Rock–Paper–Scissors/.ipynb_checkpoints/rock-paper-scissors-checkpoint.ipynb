{
 "cells": [
  {
   "cell_type": "markdown",
   "metadata": {},
   "source": [
    "<img src=\"https://bit.ly/2VnXWr2\" width=\"100\" align=\"left\">"
   ]
  },
  {
   "cell_type": "markdown",
   "metadata": {},
   "source": [
    "# Rock, Paper & Scissors\n",
    "\n",
    "Let's play the famous game against our computer. You can check the rules [here](https://en.wikipedia.org/wiki/Rock%E2%80%93paper%E2%80%93scissors). \n",
    "\n",
    "## Task\n",
    "Create a program that imitates the playability of the well known game of rock, paper, scissors. Follow the guidelines provided.\n",
    "\n",
    "## Tools\n",
    "1. Loop: **for/while**\n",
    "2. Functions: **input(), print()...**\n",
    "3. Conditional statements: **if, elif, else**\n",
    "4. Definition of functions. Modular programming\n",
    "5. Import modules\n",
    "\n",
    "**To solve this challenge, the use of functions is recommended.**\n",
    "\n",
    "#### 1. Import the choice function of the random module."
   ]
  },
  {
   "cell_type": "code",
   "execution_count": 110,
   "metadata": {},
   "outputs": [],
   "source": [
    "import random\n",
    "\n",
    "###to import choice we need a variable first\n",
    "\n"
   ]
  },
  {
   "cell_type": "markdown",
   "metadata": {},
   "source": [
    "#### 2. Create a list that includes the 3 possible gesture options of the game: 'rock', 'paper' or 'scissors'. Store the list in a variable called `gestures`."
   ]
  },
  {
   "cell_type": "code",
   "execution_count": 111,
   "metadata": {},
   "outputs": [],
   "source": [
    "GESTURES = [\"rock\", \"paper\", \"scissors\"]"
   ]
  },
  {
   "cell_type": "markdown",
   "metadata": {},
   "source": [
    "#### 3. Create a variable called `n_rounds` to store the maximum number of rounds to play in a game. \n",
    "Remember that the number of rounds must be odd: 1, 3, 5, ..."
   ]
  },
  {
   "cell_type": "code",
   "execution_count": 101,
   "metadata": {},
   "outputs": [
    {
     "name": "stdout",
     "output_type": "stream",
     "text": [
      "5\n"
     ]
    }
   ],
   "source": [
    "n_rounds = 5\n",
    "\n",
    "print(n_rounds)"
   ]
  },
  {
   "cell_type": "markdown",
   "metadata": {},
   "source": [
    "#### 4. Create a variable called `rounds_to_win` to store the number of rounds that a player must win to win the game.\n",
    "**Hint**: the value stored in `rounds_to_win` depends on the value of `n_rounds`. "
   ]
  },
  {
   "cell_type": "code",
   "execution_count": 102,
   "metadata": {},
   "outputs": [
    {
     "name": "stdout",
     "output_type": "stream",
     "text": [
      "3\n"
     ]
    }
   ],
   "source": [
    "rounds_to_win = (n_rounds//2) + 1 \n",
    "\n",
    "print(rounds_to_win)"
   ]
  },
  {
   "cell_type": "markdown",
   "metadata": {},
   "source": [
    "#### 5. Create two variables to store the number of rounds that the computer and the player have won. Call these variables `cpu_score` and `player_score`."
   ]
  },
  {
   "cell_type": "code",
   "execution_count": 112,
   "metadata": {},
   "outputs": [],
   "source": [
    "cpu_score = 0 \n",
    "player_score = 0 "
   ]
  },
  {
   "cell_type": "markdown",
   "metadata": {},
   "source": [
    "#### 6. Define a function that randomly returns one of the 3 gesture options.\n",
    "You will use this function to simulate the gesture choice of the computer. "
   ]
  },
  {
   "cell_type": "code",
   "execution_count": 104,
   "metadata": {},
   "outputs": [
    {
     "name": "stdout",
     "output_type": "stream",
     "text": [
      "paper\n"
     ]
    }
   ],
   "source": [
    "print(random.choice(gestures))"
   ]
  },
  {
   "cell_type": "markdown",
   "metadata": {},
   "source": [
    "#### 7. Define a function that asks the player which is the gesture he or she wants to show: 'rock', 'paper' or 'scissors'.\n",
    "The player should only be allowed to choose one of the 3 gesture options. If the player's choice is not rock, paper or scissors, keep asking until it is."
   ]
  },
  {
   "cell_type": "code",
   "execution_count": 113,
   "metadata": {},
   "outputs": [],
   "source": [
    "\n",
    "\n",
    "#gestures = [\"rock\",\"paper\",\"scissors\"]\n",
    "#players_choice = input(\"what gesture do you want to play?  \")\n",
    "#if players_choice in gestures:\n",
    "    #print(\"thanks for the input\")\n",
    "    #print(\"the player has chosen:\" ,players_choice)\n",
    "\n",
    "#while players_choice not in gestures:\n",
    "    #new_players_choice = input(\"please repeat and enter a valid answer:   \")\n",
    "    #if not new_players_choice in gestures:\n",
    "       # print(\"try again\")\n",
    "    #elif new_players_choice in gestures:\n",
    "        #print(\"the player has chosen:\" ,new_players_choice)\n",
    "        #break\n",
    "\n",
    "#\n",
    "#def play_play(gestures):\n",
    "\n",
    "#   players_choice = input(\"what gesture do you want to play?  \")\n",
    "#  if players_choice in gestures:\n",
    "#     print(\"thanks for the input\")\n",
    "#    print(\"the player has chosen:\" ,players_choice)\n",
    "     #while players_choice not in gestures:\n",
    "     #   players_choice = input(\"please repeat and enter a valid answer:   \")\n",
    "      #  if not players_choice in gestures:\n",
    "       #     print(\"try again\")\n",
    "        #elif players_choice in gestures:\n",
    "         #   print(\"the player has chosen:\" ,players_choice)\n",
    "          #  break\n",
    "\n",
    "   # return players_choice\n",
    "\n",
    "#players_choice = play_play(gestures)\n",
    "#print(players_choice)  \n",
    "\n",
    "\n",
    "\n",
    "def get_player_move():\n",
    "    player_move = None\n",
    "    while player_move not in GESTURES:\n",
    "        player_move = input(\"Please enter a move: \")\n",
    "\n",
    "    return player_move\n",
    "\n"
   ]
  },
  {
   "cell_type": "markdown",
   "metadata": {},
   "source": [
    "#### 8. Define a function that checks who won a round. \n",
    "The function should return 0 if there is a tie, 1 if the computer wins and 2 if the player wins."
   ]
  },
  {
   "cell_type": "code",
   "execution_count": 114,
   "metadata": {},
   "outputs": [],
   "source": [
    "\n",
    "        \n",
    "#player = play_play(gestures)\n",
    "#cpu_result = random.choice(gestures)\n",
    "\n",
    "#if player == cpu_result:\n",
    "#    print(\"tie\")\n",
    "    \n",
    "#elif player == \"rock\":\n",
    "#    if cpu_result == \"paper\": \n",
    "#        print(\"computer wins\")\n",
    "#        cpu_score = cpu_score + 1 \n",
    "#    else:\n",
    "#        print(\"player wins\")\n",
    "#        player_score = player_score + 1 \n",
    "        \n",
    "#elif player == \"paper\":\n",
    "#    if cpu_result == \"scissors\":\n",
    "#        print(\"computer wins\")\n",
    "#        cpu_score = cpu_score + 1 \n",
    "#    else:\n",
    "#        print(\"player wins\") \n",
    "#        player_score = player_score + 1 \n",
    "        \n",
    "#elif player == \"scissors\":\n",
    "#    if cpu_result == \"rock\":\n",
    "#        print(\"computer wins\")\n",
    "#        cpu_score = cpu_score + 1 \n",
    "#    else: \n",
    "#        print(\"player wins\")\n",
    "#        player_score = player_score + 1 \n",
    "\n",
    "\n",
    "            \n",
    "\n",
    "def determine_winner(player_move, cpu_move):\n",
    "    if player_move == cpu_move:\n",
    "        return 0\n",
    "    elif player_move == \"rock\":\n",
    "        return 2 if cpu_move == \"scissors\" else 1\n",
    "    elif player_move == \"scissors\":\n",
    "        return 2 if cpu_move == \"paper\" else 1\n",
    "    else:\n",
    "        return 2 if cpu_move == \"rock\" else 1\n",
    "    \n",
    "    \n"
   ]
  },
  {
   "cell_type": "markdown",
   "metadata": {},
   "source": [
    "#### 9. Define a function that prints the choice of the computer, the choice of the player and a message that announces who won the current round. \n",
    "You should also use this function to update the variables that count the number of rounds that the computer and the player have won. The score of the winner increases by one point. If there is a tie, the score does not increase."
   ]
  },
  {
   "cell_type": "code",
   "execution_count": 115,
   "metadata": {},
   "outputs": [],
   "source": [
    "def show_winner(winner):\n",
    "    cpu_score = 0 \n",
    "    player_score = 0 \n",
    "    if winner == 0:\n",
    "        print(\"Tie\")\n",
    "    elif winner == 2:\n",
    "        print(\"Player won\")\n",
    "        player_score += 1\n",
    "    else:\n",
    "        print(\"Computer won\")\n",
    "        cpu_score += 1\n",
    "        \n"
   ]
  },
  {
   "cell_type": "markdown",
   "metadata": {},
   "source": [
    "#### 10. Now it's time to code the execution of the game using the functions and variables you defined above. \n",
    "\n",
    "First, create a loop structure that repeats while no player reaches the minimum score necessary to win and the number of rounds is less than the maximum number of rounds to play in a game.  \n",
    "\n",
    "Inside the loop, use the functions and variables above to create the execution of a round: ask for the player's choice, generate the random choice of the computer, show the round results, update the scores, etc. "
   ]
  },
  {
   "cell_type": "code",
   "execution_count": 118,
   "metadata": {},
   "outputs": [
    {
     "name": "stdout",
     "output_type": "stream",
     "text": [
      "Please enter a move: rock\n",
      "Computer won\n",
      "Please enter a move: rock\n",
      "Tie\n",
      "Please enter a move: rock\n",
      "Computer won\n",
      "Please enter a move: rock\n",
      "Computer won\n",
      "Please enter a move: rock\n",
      "Tie\n",
      "Please enter a move: rock\n",
      "Tie\n",
      "Please enter a move: rock\n",
      "Player won\n",
      "Please enter a move: rock\n",
      "Computer won\n",
      "Please enter a move: rock\n",
      "Player won\n",
      "Please enter a move: rock\n",
      "Player won\n"
     ]
    }
   ],
   "source": [
    "\n",
    "GESTURES = [\"rock\", \"paper\", \"scissors\"]\n",
    "\n",
    "TIE = 0\n",
    "CPU_WIN = 1\n",
    "PLAYER_WIN = 2\n",
    "\n",
    "\n",
    "if __name__ == \"__main__\":\n",
    "    player_score = cpu_score = 0\n",
    "\n",
    "    while player_score < 3 or cpu_score < 3:\n",
    "        player_move = get_player_move()\n",
    "        cpu_move = random.choice(GESTURES)\n",
    "        winner = determine_winner(player_move, cpu_move)\n",
    "        show_winner(winner)\n",
    "        if winner == PLAYER1_WIN:\n",
    "            player_score += 1\n",
    "        \n",
    "        if winner == PLAYER2_WIN:\n",
    "            cpu_score += 1\n",
    "        \n",
    "  "
   ]
  },
  {
   "cell_type": "markdown",
   "metadata": {},
   "source": [
    "\n",
    "#### 11. Print the winner of the game based on who won more rounds.\n",
    "Remember that the game might be tied. "
   ]
  },
  {
   "cell_type": "code",
   "execution_count": 119,
   "metadata": {},
   "outputs": [
    {
     "name": "stdout",
     "output_type": "stream",
     "text": [
      "the player won\n"
     ]
    }
   ],
   "source": [
    "if player_score > cpu_score:\n",
    "    print(\"the player won\")\n",
    "elif player_score < cpu_score:\n",
    "    print(\"the computer won\")"
   ]
  },
  {
   "cell_type": "markdown",
   "metadata": {},
   "source": [
    "# Bonus: Rock, Paper, Scissors, Lizard & Spock\n",
    "![](images/rpsls.jpg)\n",
    "\n",
    "In this challenge, you need to improve the previous game by adding two new options. To know more about the rules of the improved version of rock, paper, scissors, check this [link](http://www.samkass.com/theories/RPSSL.html). \n",
    "\n",
    "In addition, you will also need to improve how the game interacts with the player: the number of rounds to play, which must be an odd number, will be requested to the user until a valid number is entered. Define a new function to make that request.\n",
    "\n",
    "**Hint**: Try to reuse the code that you already coded in the previous challenge. If your code is efficient, this bonus will only consist of simple modifications to the original game."
   ]
  },
  {
   "cell_type": "code",
   "execution_count": null,
   "metadata": {},
   "outputs": [
    {
     "name": "stdout",
     "output_type": "stream",
     "text": [
      "Please enter a move: rock\n",
      "Tie\n",
      "Please enter a move: rock\n",
      "Player won\n",
      "Please enter a move: rock\n",
      "Player won\n"
     ]
    }
   ],
   "source": [
    "GESTURES = {\n",
    "    \"rock\": (\"scissors\", \"lizard\"),\n",
    "    \"paper\": (\"rock\", \"spock\"),\n",
    "    \"scissors\": (\"paper\", \"lizard\"),\n",
    "    \"lizard\": (\"paper\", \"spock\"),\n",
    "    \"spock\": (\"scissors\", \"rock\"),\n",
    "}\n",
    "\n",
    "\n",
    "TIE = 0\n",
    "CPU_WIN = 1\n",
    "PLAYER_WIN = 2\n",
    "\n",
    "def determine_winner(player1_move, player2_move):\n",
    "    if player1_move == player2_move:\n",
    "        return TIE\n",
    "    elif player2_move in GESTURES[player1_move]:\n",
    "        return PLAYER1_WIN\n",
    "    else:\n",
    "        return PLAYER2_WIN\n",
    "\n",
    "def get_player_move():\n",
    "    player_move = None\n",
    "    while player_move not in GESTURES:\n",
    "        player_move = input(\"Please enter a move: \")\n",
    "\n",
    "    return player_move\n",
    "\n",
    "if __name__ == \"__main__\":\n",
    "    player_score = cpu_score = 0\n",
    "\n",
    "    while player_score < 3 or cpu_score < 3:\n",
    "        player_move = get_player_move()\n",
    "        cpu_move = random.choice(list(GESTURES.keys()))\n",
    "        winner = determine_winner(player_move, cpu_move)\n",
    "        show_winner(winner)\n",
    "        \n",
    "        if winner == PLAYER1_WIN:\n",
    "            player_score += 1\n",
    "        \n",
    "        if winner == PLAYER2_WIN:\n",
    "            cpu_score += 1"
   ]
  },
  {
   "cell_type": "code",
   "execution_count": 84,
   "metadata": {},
   "outputs": [
    {
     "name": "stdout",
     "output_type": "stream",
     "text": [
      "lizard\n"
     ]
    }
   ],
   "source": []
  },
  {
   "cell_type": "code",
   "execution_count": null,
   "metadata": {},
   "outputs": [],
   "source": []
  }
 ],
 "metadata": {
  "kernelspec": {
   "display_name": "Python 3",
   "language": "python",
   "name": "python3"
  }
 },
 "nbformat": 4,
 "nbformat_minor": 2
}
